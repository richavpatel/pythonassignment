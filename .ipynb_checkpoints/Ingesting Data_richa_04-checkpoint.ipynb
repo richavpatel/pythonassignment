{
 "cells": [
  {
   "cell_type": "markdown",
   "metadata": {},
   "source": [
    "# Ingesting Data\n",
    "# Week 04\n",
    "# Richa Patel"
   ]
  },
  {
   "cell_type": "code",
   "execution_count": 6,
   "metadata": {},
   "outputs": [],
   "source": [
    "#Enter correct file name \"mbox-short.txt\"\n",
    "#open file then read file\n",
    "#looking for lines like \"X-DSPAM-Confidence\"\n",
    "#string number spliting\n",
    "#make value float\n",
    "#count value\n",
    "#find total\n",
    "#get mean by total/count Count: 27 Mean is: 0.7507185185185187\n"
   ]
  },
  {
   "cell_type": "code",
   "execution_count": 7,
   "metadata": {},
   "outputs": [
    {
     "name": "stdout",
     "output_type": "stream",
     "text": [
      "Enter File name: mbox-short.txt\n",
      "Count:  27\n",
      "Mean is:  0.7507185185185187\n"
     ]
    }
   ],
   "source": [
    "file = input(\"Enter File name: \")\n",
    "\n",
    "try:\n",
    "    file = open(file)\n",
    "except:\n",
    "        print(\"Please enter correct name: \")\n",
    "        quit()\n",
    "        \n",
    "count = 0\n",
    "total = 0\n",
    "\n",
    "for line in file:\n",
    "    if line.startswith('X-DSPAM-Confidence'):\n",
    "        count = count + 1\n",
    "        index = line.find(':')\n",
    "        lastnumber = line[index + 1:]\n",
    "        finalvalue = float(lastnumber)\n",
    "        total = total + finalvalue\n",
    "        \n",
    "print(\"Count: \", count)\n",
    "print(\"Mean is: \", total/count)\n",
    "\n",
    "file.close()"
   ]
  },
  {
   "cell_type": "code",
   "execution_count": null,
   "metadata": {},
   "outputs": [],
   "source": []
  }
 ],
 "metadata": {
  "kernelspec": {
   "display_name": "Python 3",
   "language": "python",
   "name": "python3"
  },
  "language_info": {
   "codemirror_mode": {
    "name": "ipython",
    "version": 3
   },
   "file_extension": ".py",
   "mimetype": "text/x-python",
   "name": "python",
   "nbconvert_exporter": "python",
   "pygments_lexer": "ipython3",
   "version": "3.8.5"
  }
 },
 "nbformat": 4,
 "nbformat_minor": 4
}
