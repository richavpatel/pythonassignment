{
 "cells": [
  {
   "cell_type": "raw",
   "metadata": {},
   "source": [
    "# NumPy Exercise\n",
    "# Richa Patel\n",
    "# week 06"
   ]
  },
  {
   "cell_type": "markdown",
   "metadata": {},
   "source": []
  },
  {
   "cell_type": "code",
   "execution_count": 42,
   "metadata": {},
   "outputs": [
    {
     "data": {
      "text/plain": [
       "array([[ 80842, 333008, 202553, 140037,  81969],\n",
       "       [ 63857,  42105, 261540, 481981, 176739],\n",
       "       [489984, 326386, 110795, 394863,  25024],\n",
       "       [ 38317,  49982, 408830, 485118,  16119],\n",
       "       [407675, 231729, 265455, 109413, 103399],\n",
       "       [174677, 343356, 301717, 224120, 401101],\n",
       "       [140473, 254634, 112262,  25063, 108262],\n",
       "       [375059, 406983, 208947, 115641, 296685],\n",
       "       [444899, 129585, 171318, 313094, 425041],\n",
       "       [188411, 335140, 141681,  59641, 211420],\n",
       "       [287650,   8973, 477425, 382803, 465168],\n",
       "       [  3975,  32213, 160603, 275485, 388234],\n",
       "       [246225,  56174, 244097,   9350, 496966],\n",
       "       [225516, 273338,  73335, 283013, 212813],\n",
       "       [ 38175, 282399, 318413, 337639, 379802],\n",
       "       [198049, 101115, 419547, 260219, 325793],\n",
       "       [148593, 425024, 348570, 117968, 107007],\n",
       "       [ 52547, 180346, 178760, 305186, 262153],\n",
       "       [ 11835, 449971, 494184, 472031, 353049],\n",
       "       [476442,  35455, 191553, 384154,  29917]])"
      ]
     },
     "execution_count": 42,
     "metadata": {},
     "output_type": "execute_result"
    }
   ],
   "source": [
    "import numpy as np;\n",
    "np.random.seed(21)\n",
    "random_integers = np.random.randint(1,high=500000, size=(20, 5))\n",
    "random_integers\n"
   ]
  },
  {
   "cell_type": "markdown",
   "metadata": {},
   "source": [
    "# 1.Find average value of the second column"
   ]
  },
  {
   "cell_type": "code",
   "execution_count": 10,
   "metadata": {},
   "outputs": [
    {
     "name": "stdout",
     "output_type": "stream",
     "text": [
      "All column of average value:  [204660.05 214895.8  254579.25 258840.95 243333.05]\n",
      "Average value of the second column : 214895.8\n"
     ]
    }
   ],
   "source": [
    "a = np.average(random_integers, axis = 0)\n",
    "\n",
    "print(\"All column of average value: \", a)\n",
    "\n",
    "print(\"Average value of the second column :\", a[1])"
   ]
  },
  {
   "cell_type": "markdown",
   "metadata": {},
   "source": [
    "2.The average value of the first 5 rows of the third and\n",
    "fourth columns."
   ]
  },
  {
   "cell_type": "code",
   "execution_count": 15,
   "metadata": {},
   "outputs": [
    {
     "name": "stdout",
     "output_type": "stream",
     "text": [
      "Average value of the first 5 rows of the third and fourth columns\n",
      "[[ 80842 333008 202553 140037  81969]\n",
      " [ 63857  42105 261540 481981 176739]\n",
      " [489984 326386 110795 394863  25024]\n",
      " [ 38317  49982 408830 485118  16119]\n",
      " [407675 231729 265455 109413 103399]]\n",
      "[216135.  196642.  249834.6 322282.4  80650. ]\n",
      "Average value of the third column : 249834.6\n",
      "Average value of the fourth column : 322282.4\n"
     ]
    }
   ],
   "source": [
    "print(\"Average value of the first 5 rows of the third and fourth columns\")\n",
    "\n",
    "arrayT = random_integers[:5]\n",
    "print(arrayT)\n",
    "z = np.average(arrayT, axis = 0)\n",
    "\n",
    "print(z)\n",
    "\n",
    "print(\"Average value of the third column :\", z[2])\n",
    "\n",
    "print(\"Average value of the fourth column :\", z[3])"
   ]
  },
  {
   "cell_type": "markdown",
   "metadata": {},
   "source": [
    "3. 10 x 10 slice from of random_integers array, named\n",
    "arrayTenByTen"
   ]
  },
  {
   "cell_type": "code",
   "execution_count": 21,
   "metadata": {},
   "outputs": [
    {
     "name": "stdout",
     "output_type": "stream",
     "text": [
      "[[ 80842 333008 202553 140037  81969  63857  42105 261540 481981 176739]\n",
      " [489984 326386 110795 394863  25024  38317  49982 408830 485118  16119]\n",
      " [407675 231729 265455 109413 103399 174677 343356 301717 224120 401101]\n",
      " [140473 254634 112262  25063 108262 375059 406983 208947 115641 296685]\n",
      " [444899 129585 171318 313094 425041 188411 335140 141681  59641 211420]\n",
      " [287650   8973 477425 382803 465168   3975  32213 160603 275485 388234]\n",
      " [246225  56174 244097   9350 496966 225516 273338  73335 283013 212813]\n",
      " [ 38175 282399 318413 337639 379802 198049 101115 419547 260219 325793]\n",
      " [148593 425024 348570 117968 107007  52547 180346 178760 305186 262153]\n",
      " [ 11835 449971 494184 472031 353049 476442  35455 191553 384154  29917]]\n"
     ]
    }
   ],
   "source": [
    "\n",
    "arrayTenByTen = np.reshape(random_integers, (10,10))\n",
    "print(arrayTenByTen)"
   ]
  },
  {
   "cell_type": "markdown",
   "metadata": {},
   "source": [
    "4. new array from the arrayTenByTen that is one rank "
   ]
  },
  {
   "cell_type": "code",
   "execution_count": 32,
   "metadata": {},
   "outputs": [
    {
     "name": "stdout",
     "output_type": "stream",
     "text": [
      "[ 80842 333008 202553 140037  81969  63857  42105 261540 481981 176739\n",
      " 489984 326386 110795 394863  25024  38317  49982 408830 485118  16119\n",
      " 407675 231729 265455 109413 103399 174677 343356 301717 224120 401101\n",
      " 140473 254634 112262  25063 108262 375059 406983 208947 115641 296685\n",
      " 444899 129585 171318 313094 425041 188411 335140 141681  59641 211420\n",
      " 287650   8973 477425 382803 465168   3975  32213 160603 275485 388234\n",
      " 246225  56174 244097   9350 496966 225516 273338  73335 283013 212813\n",
      "  38175 282399 318413 337639 379802 198049 101115 419547 260219 325793\n",
      " 148593 425024 348570 117968 107007  52547 180346 178760 305186 262153\n",
      "  11835 449971 494184 472031 353049 476442  35455 191553 384154  29917]\n"
     ]
    }
   ],
   "source": [
    "arrayTenFlat = arrayTenByTen.flatten()\n",
    "print(arrayTenFlat)"
   ]
  },
  {
   "cell_type": "markdown",
   "metadata": {},
   "source": [
    "5. What is the sum of arrayTenFlat"
   ]
  },
  {
   "cell_type": "code",
   "execution_count": 33,
   "metadata": {},
   "outputs": [
    {
     "name": "stdout",
     "output_type": "stream",
     "text": [
      "23526182\n"
     ]
    }
   ],
   "source": [
    "print(arrayTenFlat.sum())"
   ]
  },
  {
   "cell_type": "markdown",
   "metadata": {},
   "source": [
    "6. Iterate through arrayTenFlat"
   ]
  },
  {
   "cell_type": "code",
   "execution_count": 34,
   "metadata": {},
   "outputs": [
    {
     "name": "stdout",
     "output_type": "stream",
     "text": [
      "80842\n",
      "333008\n",
      "202553\n",
      "140037\n",
      "81969\n",
      "63857\n",
      "42105\n",
      "261540\n",
      "481981\n",
      "176739\n",
      "489984\n",
      "326386\n",
      "110795\n",
      "394863\n",
      "25024\n",
      "38317\n",
      "49982\n",
      "408830\n",
      "485118\n",
      "16119\n",
      "407675\n",
      "231729\n",
      "265455\n",
      "109413\n",
      "103399\n",
      "174677\n",
      "343356\n",
      "301717\n",
      "224120\n",
      "401101\n",
      "140473\n",
      "254634\n",
      "112262\n",
      "25063\n",
      "108262\n",
      "375059\n",
      "406983\n",
      "208947\n",
      "115641\n",
      "296685\n",
      "444899\n",
      "129585\n",
      "171318\n",
      "313094\n",
      "425041\n",
      "188411\n",
      "335140\n",
      "141681\n",
      "59641\n",
      "211420\n",
      "287650\n",
      "8973\n",
      "477425\n",
      "382803\n",
      "465168\n",
      "3975\n",
      "32213\n",
      "160603\n",
      "275485\n",
      "388234\n",
      "246225\n",
      "56174\n",
      "244097\n",
      "9350\n",
      "496966\n",
      "225516\n",
      "273338\n",
      "73335\n",
      "283013\n",
      "212813\n",
      "38175\n",
      "282399\n",
      "318413\n",
      "337639\n",
      "379802\n",
      "198049\n",
      "101115\n",
      "419547\n",
      "260219\n",
      "325793\n",
      "148593\n",
      "425024\n",
      "348570\n",
      "117968\n",
      "107007\n",
      "52547\n",
      "180346\n",
      "178760\n",
      "305186\n",
      "262153\n",
      "11835\n",
      "449971\n",
      "494184\n",
      "472031\n",
      "353049\n",
      "476442\n",
      "35455\n",
      "191553\n",
      "384154\n",
      "29917\n"
     ]
    }
   ],
   "source": [
    "for x in np.nditer(arrayTenFlat):\n",
    "    print(x)"
   ]
  },
  {
   "cell_type": "markdown",
   "metadata": {},
   "source": [
    "7. What is the value of the element (9,2) in random_integers array?"
   ]
  },
  {
   "cell_type": "code",
   "execution_count": 43,
   "metadata": {},
   "outputs": [
    {
     "name": "stdout",
     "output_type": "stream",
     "text": [
      "129585\n"
     ]
    }
   ],
   "source": [
    "print(random_integers[8,1])"
   ]
  },
  {
   "cell_type": "markdown",
   "metadata": {},
   "source": [
    "8. What is the data type of arrayTenFlat?"
   ]
  },
  {
   "cell_type": "code",
   "execution_count": 35,
   "metadata": {},
   "outputs": [
    {
     "name": "stdout",
     "output_type": "stream",
     "text": [
      "int64\n"
     ]
    }
   ],
   "source": [
    "print(arrayTenFlat.dtype)"
   ]
  },
  {
   "cell_type": "markdown",
   "metadata": {},
   "source": [
    "9. In arrayTenFlat replace the value in index 5 with 42"
   ]
  },
  {
   "cell_type": "code",
   "execution_count": 49,
   "metadata": {},
   "outputs": [
    {
     "name": "stdout",
     "output_type": "stream",
     "text": [
      "42\n"
     ]
    }
   ],
   "source": [
    "arrayTenFlat[4] = 42\n",
    "print(arrayTenFlat[4])"
   ]
  },
  {
   "cell_type": "markdown",
   "metadata": {},
   "source": [
    "10. Save the array random_integers to a file. List the directory showing the saved array."
   ]
  },
  {
   "cell_type": "code",
   "execution_count": 52,
   "metadata": {},
   "outputs": [],
   "source": [
    "np.save('saved_data',random_integers)"
   ]
  },
  {
   "cell_type": "code",
   "execution_count": 53,
   "metadata": {},
   "outputs": [
    {
     "name": "stderr",
     "output_type": "stream",
     "text": [
      "UsageError: Line magic function `%dist` not found.\n"
     ]
    }
   ],
   "source": [
    "%dist\n"
   ]
  },
  {
   "cell_type": "code",
   "execution_count": null,
   "metadata": {},
   "outputs": [],
   "source": []
  }
 ],
 "metadata": {
  "kernelspec": {
   "display_name": "Python 3",
   "language": "python",
   "name": "python3"
  },
  "language_info": {
   "codemirror_mode": {
    "name": "ipython",
    "version": 3
   },
   "file_extension": ".py",
   "mimetype": "text/x-python",
   "name": "python",
   "nbconvert_exporter": "python",
   "pygments_lexer": "ipython3",
   "version": "3.8.5"
  }
 },
 "nbformat": 4,
 "nbformat_minor": 4
}
