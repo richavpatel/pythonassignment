{
 "cells": [
  {
   "cell_type": "code",
   "execution_count": null,
   "metadata": {},
   "outputs": [],
   "source": [
    "# score between 0.0 and 1.0 from user\n",
    "# check \n",
    "# out of range will print an error.\n",
    "\n",
    "\n",
    "r = float(input(\"Enter score between 0.0 and 1.0: \"))\n",
    "\n",
    "if (0.0 < r < 1.0):\n",
    "    \n",
    "    if(r >= 0.9):\n",
    "        r = 'A'\n",
    "    elif(r >= 0.8):\n",
    "        r = 'B'\n",
    "    elif(r >= 0.7):\n",
    "        r = 'C'\n",
    "    elif(r >= 0.6):\n",
    "        r = 'D'\n",
    "    elif(r < 0.6):\n",
    "        r = 'F'\n",
    "    else:\n",
    "        r = \"Error\"\n",
    "else:\n",
    "    r = \"Error\"\n",
    "\n",
    "print(r)\n",
    "\n"
   ]
  },
  {
   "cell_type": "code",
   "execution_count": null,
   "metadata": {},
   "outputs": [],
   "source": [
    "# user enter hours and rate\n",
    "# Up to 40 hours then basepay\n",
    "# If above 40 hours then overtimepay + basepay\n",
    "\n",
    "\n",
    "hours = float(input(\"Enter hours: \"))\n",
    "rate  = float(input(\"Enter rate per hour: \"))\n",
    "\n",
    "basepay = hours * rate\n",
    "if(hours <= 40):\n",
    "    print(\"Base Pay: \", basepay)\n",
    "else:\n",
    "    totalpay  = 40 * rate + ((hours - 40) * rate * 1.5)\n",
    "    print(\"Total Pay: \", totalpay)"
   ]
  },
  {
   "cell_type": "code",
   "execution_count": null,
   "metadata": {},
   "outputs": [],
   "source": []
  },
  {
   "cell_type": "code",
   "execution_count": null,
   "metadata": {},
   "outputs": [],
   "source": []
  }
 ],
 "metadata": {
  "kernelspec": {
   "display_name": "Python 3",
   "language": "python",
   "name": "python3"
  },
  "language_info": {
   "codemirror_mode": {
    "name": "ipython",
    "version": 3
   },
   "file_extension": ".py",
   "mimetype": "text/x-python",
   "name": "python",
   "nbconvert_exporter": "python",
   "pygments_lexer": "ipython3",
   "version": "3.8.5"
  }
 },
 "nbformat": 4,
 "nbformat_minor": 4
}
