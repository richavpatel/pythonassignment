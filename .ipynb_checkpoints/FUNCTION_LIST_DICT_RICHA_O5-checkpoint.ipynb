{
 "cells": [
  {
   "cell_type": "raw",
   "metadata": {},
   "source": [
    "# Function \n",
    "# Week 05\n",
    "# Richa Patel."
   ]
  },
  {
   "cell_type": "code",
   "execution_count": 144,
   "metadata": {},
   "outputs": [
    {
     "name": "stdout",
     "output_type": "stream",
     "text": [
      "Enter the hours: 45\n",
      "Enter the rate: 10.50\n",
      "498.75\n"
     ]
    }
   ],
   "source": [
    "#Enter hours and rate\n",
    "#logic to do computatation\n",
    "# call function\n",
    "\n",
    "hours = float(input(\"Enter the hours: \"))\n",
    "rate = float(input(\"Enter the rate: \"))\n",
    "\n",
    "def computpay(hours,rate):\n",
    "    if(hours < 40 ):\n",
    "        basepay = hours * rate\n",
    "        print(basepay)\n",
    "    else:\n",
    "        total = (40 * rate) + ((hours - 40) * rate * 1.5)\n",
    "        print(total)\n",
    "    \n",
    "computpay(hours,rate)"
   ]
  },
  {
   "cell_type": "raw",
   "metadata": {},
   "source": [
    "# LIST"
   ]
  },
  {
   "cell_type": "code",
   "execution_count": 145,
   "metadata": {},
   "outputs": [
    {
     "name": "stdout",
     "output_type": "stream",
     "text": [
      "List of words:  ['Arise', 'But', 'It', 'Juliet', 'Who', 'already', 'and', 'breaks', 'east', 'envious', 'fair', 'grief', 'is', 'kill', 'light', 'moon', 'pale', 'sick', 'soft', 'sun', 'the', 'through', 'what', 'window', 'with', 'yonder']\n"
     ]
    }
   ],
   "source": [
    "#open files\n",
    "#read line by line\n",
    "#list of words use split()\n",
    "#sort by alphabetical\n",
    "#print\n",
    "\n",
    "rfile = open('romeo.txt')\n",
    "words = list()\n",
    "for line in rfile:\n",
    "    value=line.split()\n",
    "    for word in value:\n",
    "        if word in words:\n",
    "            continue\n",
    "        else:\n",
    "            words.append(word)\n",
    "    words.sort()\n",
    "    \n",
    "print(\"List of words: \", words)"
   ]
  },
  {
   "cell_type": "raw",
   "metadata": {},
   "source": [
    "# DICTONARIE\n",
    "# read through the mbox-short.txt file \n",
    "# looks for 'From ' lines and takes the second word\n",
    "# logic for who has the sent the greatest number of mail"
   ]
  },
  {
   "cell_type": "code",
   "execution_count": 146,
   "metadata": {},
   "outputs": [
    {
     "name": "stdout",
     "output_type": "stream",
     "text": [
      "Greatest number of times sent mail with emailid :  cwen@iupui.edu 5\n"
     ]
    }
   ],
   "source": [
    "file = open('mbox-short.txt')\n",
    "\n",
    "count = dict()\n",
    "for line in file:\n",
    "     if line.startswith('From '):\n",
    "        names = line.split()[1]\n",
    "        count[names] = count.get(names,0) + 1\n",
    "        maxcount = None\n",
    "        maxword =  None\n",
    "        for name,value in count.items():\n",
    "            if maxcount is None or value > maxcount:\n",
    "                    maxword = name\n",
    "                    maxcount = value\n",
    "print(\"Greatest no of times sent mail: \", maxword, maxcount)\n",
    "file.close()"
   ]
  },
  {
   "cell_type": "code",
   "execution_count": null,
   "metadata": {},
   "outputs": [],
   "source": []
  }
 ],
 "metadata": {
  "kernelspec": {
   "display_name": "Python 3",
   "language": "python",
   "name": "python3"
  },
  "language_info": {
   "codemirror_mode": {
    "name": "ipython",
    "version": 3
   },
   "file_extension": ".py",
   "mimetype": "text/x-python",
   "name": "python",
   "nbconvert_exporter": "python",
   "pygments_lexer": "ipython3",
   "version": "3.8.5"
  }
 },
 "nbformat": 4,
 "nbformat_minor": 4
}
