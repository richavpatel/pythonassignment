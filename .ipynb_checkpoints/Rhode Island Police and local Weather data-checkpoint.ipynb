{
 "cells": [
  {
   "cell_type": "markdown",
   "metadata": {},
   "source": [
    "Richa Patel\n",
    "Final Project - Research Report"
   ]
  },
  {
   "cell_type": "markdown",
   "metadata": {},
   "source": [
    "Do the genders commit different violations?\n",
    "Examining traffic violations\n",
    "Comparing violations by gender\n",
    "Does gender affect who gets a ticket for speeding?\n",
    "Comparing speeding outcomes by gender\n",
    "Does gender effect whose vehicle is searched?\n",
    "Comparing search rates by gender\n",
    "Does gender affect who is frisked during a search?\n",
    "Comparing frisk rates by gender\n",
    "Does time of day affect arrest rate?\n",
    "Calculating the hourly arrest rate\n",
    "Plotting the hourly arrest rate\n",
    "Are drug-related stops on the rise?\n",
    "Plotting drug-related stops\n",
    "Comparing drug and search rates\n",
    "What violations are caught in each district?\n",
    "Plotting violations by district\n",
    "How long might you be stopped for a violation?\n",
    "Plotting stop length"
   ]
  },
  {
   "cell_type": "code",
   "execution_count": 4,
   "metadata": {},
   "outputs": [
    {
     "name": "stdout",
     "output_type": "stream",
     "text": [
      "      state   stop_date stop_time  county_name driver_gender driver_race  \\\n",
      "0        RI  2005-01-04     12:55          NaN             M       White   \n",
      "1        RI  2005-01-23     23:15          NaN             M       White   \n",
      "2        RI  2005-02-17     04:15          NaN             M       White   \n",
      "3        RI  2005-02-20     17:15          NaN             M       White   \n",
      "4        RI  2005-02-24     01:20          NaN             F       White   \n",
      "...     ...         ...       ...          ...           ...         ...   \n",
      "91736    RI  2015-12-31     21:21          NaN             F       Black   \n",
      "91737    RI  2015-12-31     21:59          NaN             F       White   \n",
      "91738    RI  2015-12-31     22:04          NaN             M       White   \n",
      "91739    RI  2015-12-31     22:09          NaN             F    Hispanic   \n",
      "91740    RI  2015-12-31     22:47          NaN             M       White   \n",
      "\n",
      "                        violation_raw            violation  search_conducted  \\\n",
      "0      Equipment/Inspection Violation            Equipment             False   \n",
      "1                            Speeding             Speeding             False   \n",
      "2                            Speeding             Speeding             False   \n",
      "3                    Call for Service                Other             False   \n",
      "4                            Speeding             Speeding             False   \n",
      "...                               ...                  ...               ...   \n",
      "91736         Other Traffic Violation     Moving violation             False   \n",
      "91737                        Speeding             Speeding             False   \n",
      "91738         Other Traffic Violation     Moving violation             False   \n",
      "91739  Equipment/Inspection Violation            Equipment             False   \n",
      "91740          Registration Violation  Registration/plates             False   \n",
      "\n",
      "      search_type   stop_outcome is_arrested stop_duration  \\\n",
      "0             NaN       Citation       False      0-15 Min   \n",
      "1             NaN       Citation       False      0-15 Min   \n",
      "2             NaN       Citation       False      0-15 Min   \n",
      "3             NaN  Arrest Driver        True     16-30 Min   \n",
      "4             NaN       Citation       False      0-15 Min   \n",
      "...           ...            ...         ...           ...   \n",
      "91736         NaN       Citation       False      0-15 Min   \n",
      "91737         NaN       Citation       False      0-15 Min   \n",
      "91738         NaN       Citation       False      0-15 Min   \n",
      "91739         NaN        Warning       False      0-15 Min   \n",
      "91740         NaN       Citation       False      0-15 Min   \n",
      "\n",
      "       drugs_related_stop district  \n",
      "0                   False  Zone X4  \n",
      "1                   False  Zone K3  \n",
      "2                   False  Zone X4  \n",
      "3                   False  Zone X1  \n",
      "4                   False  Zone X3  \n",
      "...                   ...      ...  \n",
      "91736               False  Zone K2  \n",
      "91737               False  Zone K3  \n",
      "91738               False  Zone X3  \n",
      "91739               False  Zone K3  \n",
      "91740               False  Zone X4  \n",
      "\n",
      "[91741 rows x 15 columns]\n",
      "          STATION        DATE  TAVG  TMIN  TMAX   AWND  WSF2  WT01  WT02  \\\n",
      "0     USW00014765  2005-01-01  44.0    35    53   8.95  25.1   1.0   NaN   \n",
      "1     USW00014765  2005-01-02  36.0    28    44   9.40  14.1   NaN   NaN   \n",
      "2     USW00014765  2005-01-03  49.0    44    53   6.93  17.0   1.0   NaN   \n",
      "3     USW00014765  2005-01-04  42.0    39    45   6.93  16.1   1.0   NaN   \n",
      "4     USW00014765  2005-01-05  36.0    28    43   7.83  17.0   1.0   NaN   \n",
      "...           ...         ...   ...   ...   ...    ...   ...   ...   ...   \n",
      "4012  USW00014765  2015-12-27  51.0    44    61   9.17  28.0   1.0   NaN   \n",
      "4013  USW00014765  2015-12-28  40.0    30    44  12.30  23.0   NaN   NaN   \n",
      "4014  USW00014765  2015-12-29  33.0    28    40  12.53  18.1   1.0   NaN   \n",
      "4015  USW00014765  2015-12-30  30.0    27    35   6.93  15.0   1.0   NaN   \n",
      "4016  USW00014765  2015-12-31  39.0    35    50   8.05  18.1   1.0   NaN   \n",
      "\n",
      "      WT03  ...  WT11  WT13  WT14  WT15  WT16  WT17  WT18  WT19  WT21  WT22  \n",
      "0      NaN  ...   NaN   1.0   NaN   NaN   NaN   NaN   NaN   NaN   NaN   NaN  \n",
      "1      NaN  ...   NaN   NaN   NaN   NaN   1.0   NaN   1.0   NaN   NaN   NaN  \n",
      "2      NaN  ...   NaN   1.0   NaN   NaN   1.0   NaN   NaN   NaN   NaN   NaN  \n",
      "3      NaN  ...   NaN   1.0   1.0   NaN   1.0   NaN   NaN   NaN   NaN   NaN  \n",
      "4      NaN  ...   NaN   1.0   NaN   NaN   1.0   NaN   1.0   NaN   NaN   NaN  \n",
      "...    ...  ...   ...   ...   ...   ...   ...   ...   ...   ...   ...   ...  \n",
      "4012   NaN  ...   NaN   NaN   NaN   NaN   NaN   NaN   NaN   NaN   NaN   NaN  \n",
      "4013   NaN  ...   NaN   NaN   NaN   NaN   NaN   NaN   NaN   NaN   NaN   NaN  \n",
      "4014   NaN  ...   NaN   NaN   NaN   NaN   NaN   NaN   NaN   NaN   NaN   NaN  \n",
      "4015   NaN  ...   NaN   NaN   NaN   NaN   NaN   NaN   NaN   NaN   NaN   NaN  \n",
      "4016   NaN  ...   NaN   NaN   NaN   NaN   NaN   NaN   NaN   NaN   NaN   NaN  \n",
      "\n",
      "[4017 rows x 27 columns]\n",
      "       county_name\n",
      "count          0.0\n",
      "mean           NaN\n",
      "std            NaN\n",
      "min            NaN\n",
      "25%            NaN\n",
      "50%            NaN\n",
      "75%            NaN\n",
      "max            NaN\n",
      "<class 'pandas.core.frame.DataFrame'>\n",
      "RangeIndex: 91741 entries, 0 to 91740\n",
      "Data columns (total 15 columns):\n",
      " #   Column              Non-Null Count  Dtype  \n",
      "---  ------              --------------  -----  \n",
      " 0   state               91741 non-null  object \n",
      " 1   stop_date           91741 non-null  object \n",
      " 2   stop_time           91741 non-null  object \n",
      " 3   county_name         0 non-null      float64\n",
      " 4   driver_gender       86536 non-null  object \n",
      " 5   driver_race         86539 non-null  object \n",
      " 6   violation_raw       86539 non-null  object \n",
      " 7   violation           86539 non-null  object \n",
      " 8   search_conducted    91741 non-null  bool   \n",
      " 9   search_type         3307 non-null   object \n",
      " 10  stop_outcome        86539 non-null  object \n",
      " 11  is_arrested         86539 non-null  object \n",
      " 12  stop_duration       86539 non-null  object \n",
      " 13  drugs_related_stop  91741 non-null  bool   \n",
      " 14  district            91741 non-null  object \n",
      "dtypes: bool(2), float64(1), object(12)\n",
      "memory usage: 9.3+ MB\n",
      "              TAVG         TMIN         TMAX         AWND         WSF2  \\\n",
      "count  1217.000000  4017.000000  4017.000000  4017.000000  4017.000000   \n",
      "mean     52.493016    43.484441    61.268608     8.593707    19.274782   \n",
      "std      17.830714    17.020298    18.199517     3.364601     5.623866   \n",
      "min       6.000000    -5.000000    15.000000     0.220000     4.900000   \n",
      "25%      39.000000    30.000000    47.000000     6.260000    15.000000   \n",
      "50%      54.000000    44.000000    62.000000     8.050000    17.900000   \n",
      "75%      68.000000    58.000000    77.000000    10.290000    21.900000   \n",
      "max      86.000000    77.000000   102.000000    26.840000    48.100000   \n",
      "\n",
      "         WT01   WT02   WT03   WT04   WT05  ...  WT11    WT13   WT14  WT15  \\\n",
      "count  1767.0  221.0  224.0  117.0  360.0  ...   1.0  1175.0  575.0   6.0   \n",
      "mean      1.0    1.0    1.0    1.0    1.0  ...   1.0     1.0    1.0   1.0   \n",
      "std       0.0    0.0    0.0    0.0    0.0  ...   NaN     0.0    0.0   0.0   \n",
      "min       1.0    1.0    1.0    1.0    1.0  ...   1.0     1.0    1.0   1.0   \n",
      "25%       1.0    1.0    1.0    1.0    1.0  ...   1.0     1.0    1.0   1.0   \n",
      "50%       1.0    1.0    1.0    1.0    1.0  ...   1.0     1.0    1.0   1.0   \n",
      "75%       1.0    1.0    1.0    1.0    1.0  ...   1.0     1.0    1.0   1.0   \n",
      "max       1.0    1.0    1.0    1.0    1.0  ...   1.0     1.0    1.0   1.0   \n",
      "\n",
      "         WT16  WT17   WT18  WT19  WT21  WT22  \n",
      "count  1326.0  12.0  345.0   4.0  18.0  32.0  \n",
      "mean      1.0   1.0    1.0   1.0   1.0   1.0  \n",
      "std       0.0   0.0    0.0   0.0   0.0   0.0  \n",
      "min       1.0   1.0    1.0   1.0   1.0   1.0  \n",
      "25%       1.0   1.0    1.0   1.0   1.0   1.0  \n",
      "50%       1.0   1.0    1.0   1.0   1.0   1.0  \n",
      "75%       1.0   1.0    1.0   1.0   1.0   1.0  \n",
      "max       1.0   1.0    1.0   1.0   1.0   1.0  \n",
      "\n",
      "[8 rows x 25 columns]\n",
      "<class 'pandas.core.frame.DataFrame'>\n",
      "RangeIndex: 4017 entries, 0 to 4016\n",
      "Data columns (total 27 columns):\n",
      " #   Column   Non-Null Count  Dtype  \n",
      "---  ------   --------------  -----  \n",
      " 0   STATION  4017 non-null   object \n",
      " 1   DATE     4017 non-null   object \n",
      " 2   TAVG     1217 non-null   float64\n",
      " 3   TMIN     4017 non-null   int64  \n",
      " 4   TMAX     4017 non-null   int64  \n",
      " 5   AWND     4017 non-null   float64\n",
      " 6   WSF2     4017 non-null   float64\n",
      " 7   WT01     1767 non-null   float64\n",
      " 8   WT02     221 non-null    float64\n",
      " 9   WT03     224 non-null    float64\n",
      " 10  WT04     117 non-null    float64\n",
      " 11  WT05     360 non-null    float64\n",
      " 12  WT06     25 non-null     float64\n",
      " 13  WT07     79 non-null     float64\n",
      " 14  WT08     404 non-null    float64\n",
      " 15  WT09     69 non-null     float64\n",
      " 16  WT10     2 non-null      float64\n",
      " 17  WT11     1 non-null      float64\n",
      " 18  WT13     1175 non-null   float64\n",
      " 19  WT14     575 non-null    float64\n",
      " 20  WT15     6 non-null      float64\n",
      " 21  WT16     1326 non-null   float64\n",
      " 22  WT17     12 non-null     float64\n",
      " 23  WT18     345 non-null    float64\n",
      " 24  WT19     4 non-null      float64\n",
      " 25  WT21     18 non-null     float64\n",
      " 26  WT22     32 non-null     float64\n",
      "dtypes: float64(23), int64(2), object(2)\n",
      "memory usage: 847.5+ KB\n"
     ]
    },
    {
     "data": {
      "text/plain": [
       "Zone X4    24279\n",
       "Zone K3    20405\n",
       "Zone K2    18397\n",
       "Zone X3    17013\n",
       "Zone K1     8678\n",
       "Zone X1     2969\n",
       "Name: district, dtype: int64"
      ]
     },
     "execution_count": 4,
     "metadata": {},
     "output_type": "execute_result"
    }
   ],
   "source": [
    "import pandas as pd\n",
    "import numpy as np\n",
    "from numpy import cov\n",
    "import matplotlib.pyplot as plt\n",
    "import seaborn as sns  \n",
    "sns.set(style=\"white\", color_codes=True)\n",
    "# read file for police and weather Data\n",
    "\n",
    "police = pd.read_csv('police.csv')\n",
    "print(police)\n",
    "\n",
    "#we can see that we have 91741 rows and 15 columns\n",
    "weather = pd.read_csv('weather.csv')\n",
    "print(weather)\n",
    "\n",
    "# [4017 rows x 27 columns]\n",
    "\n",
    "print(police.describe())\n",
    "police.info()\n",
    "\n",
    "print(weather.describe())\n",
    "weather.info()\n",
    "\n",
    "police['district'].value_counts() #Describe the data\n",
    "\n"
   ]
  },
  {
   "cell_type": "markdown",
   "metadata": {},
   "source": [
    "# List of all county name"
   ]
  },
  {
   "cell_type": "code",
   "execution_count": 5,
   "metadata": {},
   "outputs": [
    {
     "data": {
      "text/plain": [
       "Series([], Name: county_name, dtype: int64)"
      ]
     },
     "execution_count": 5,
     "metadata": {},
     "output_type": "execute_result"
    }
   ],
   "source": [
    "police['county_name'].value_counts()"
   ]
  },
  {
   "cell_type": "markdown",
   "metadata": {},
   "source": [
    "There is no any county name display heare"
   ]
  },
  {
   "cell_type": "code",
   "execution_count": 6,
   "metadata": {},
   "outputs": [
    {
     "data": {
      "text/plain": [
       "Speeding                            48424\n",
       "Other Traffic Violation             16224\n",
       "Equipment/Inspection Violation      10922\n",
       "Registration Violation               3703\n",
       "Seatbelt Violation                   2856\n",
       "Special Detail/Directed Patrol       2467\n",
       "Call for Service                     1392\n",
       "Motorist Assist/Courtesy              205\n",
       "Violation of City/Town Ordinance      181\n",
       "APB                                    91\n",
       "Suspicious Person                      56\n",
       "Warrant                                18\n",
       "Name: violation_raw, dtype: int64"
      ]
     },
     "execution_count": 6,
     "metadata": {},
     "output_type": "execute_result"
    }
   ],
   "source": [
    "police['violation_raw'].value_counts()"
   ]
  },
  {
   "cell_type": "markdown",
   "metadata": {},
   "source": [
    "Top most reason for violation is Speeding and least reson is Seat Belt."
   ]
  },
  {
   "cell_type": "code",
   "execution_count": 7,
   "metadata": {},
   "outputs": [
    {
     "data": {
      "text/plain": [
       "Speeding               48424\n",
       "Moving violation       16224\n",
       "Equipment              10922\n",
       "Other                   4410\n",
       "Registration/plates     3703\n",
       "Seat belt               2856\n",
       "Name: violation, dtype: int64"
      ]
     },
     "execution_count": 7,
     "metadata": {},
     "output_type": "execute_result"
    }
   ],
   "source": [
    "police['violation'].value_counts()"
   ]
  },
  {
   "cell_type": "code",
   "execution_count": 8,
   "metadata": {},
   "outputs": [
    {
     "data": {
      "text/plain": [
       "Citation            77092\n",
       "Warning              5137\n",
       "Arrest Driver        2735\n",
       "No Action             625\n",
       "N/D                   607\n",
       "Arrest Passenger      343\n",
       "Name: stop_outcome, dtype: int64"
      ]
     },
     "execution_count": 8,
     "metadata": {},
     "output_type": "execute_result"
    }
   ],
   "source": [
    "police['stop_outcome'].value_counts()"
   ]
  },
  {
   "cell_type": "code",
   "execution_count": null,
   "metadata": {},
   "outputs": [],
   "source": [
    "We can see citation has high value."
   ]
  },
  {
   "cell_type": "code",
   "execution_count": 9,
   "metadata": {},
   "outputs": [
    {
     "data": {
      "text/plain": [
       "M    62762\n",
       "F    23774\n",
       "Name: driver_gender, dtype: int64"
      ]
     },
     "execution_count": 9,
     "metadata": {},
     "output_type": "execute_result"
    }
   ],
   "source": [
    "police['driver_gender'].value_counts()"
   ]
  },
  {
   "cell_type": "markdown",
   "metadata": {},
   "source": [
    "Male is stopped than Female."
   ]
  },
  {
   "cell_type": "code",
   "execution_count": 10,
   "metadata": {},
   "outputs": [
    {
     "data": {
      "text/plain": [
       "White       61872\n",
       "Black       12285\n",
       "Hispanic     9727\n",
       "Asian        2390\n",
       "Other         265\n",
       "Name: driver_race, dtype: int64"
      ]
     },
     "execution_count": 10,
     "metadata": {},
     "output_type": "execute_result"
    }
   ],
   "source": [
    "police['driver_race'].value_counts()"
   ]
  },
  {
   "cell_type": "markdown",
   "metadata": {},
   "source": [
    "There's no bias here for pulling over non-white drivers vs white drivers but other race is less stopped by."
   ]
  },
  {
   "cell_type": "markdown",
   "metadata": {},
   "source": [
    "# Let's create function "
   ]
  }
 ],
 "metadata": {
  "kernelspec": {
   "display_name": "Python 3",
   "language": "python",
   "name": "python3"
  },
  "language_info": {
   "codemirror_mode": {
    "name": "ipython",
    "version": 3
   },
   "file_extension": ".py",
   "mimetype": "text/x-python",
   "name": "python",
   "nbconvert_exporter": "python",
   "pygments_lexer": "ipython3",
   "version": "3.8.5"
  }
 },
 "nbformat": 4,
 "nbformat_minor": 4
}
