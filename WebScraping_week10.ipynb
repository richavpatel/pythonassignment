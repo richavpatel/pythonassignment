{
 "cells": [
  {
   "cell_type": "raw",
   "metadata": {},
   "source": [
    "# Week 10\n",
    "# Richa Patel\n",
    "# Webscraping\n",
    "http://archive.ics.uci.edu/ml/datasets/auto+mpg"
   ]
  },
  {
   "cell_type": "code",
   "execution_count": 55,
   "metadata": {},
   "outputs": [
    {
     "name": "stdout",
     "output_type": "stream",
     "text": [
      "List of all URl : ['http://cml.ics.uci.edu', 'http://rexa.info/paper/9eac95c36cbec1ef4954d3491df1ea0a1d09c6f0', 'http://rexa.info/paper/8e674b6eff0f726ba6fff46ef6eaff968dc89f39', 'http://rexa.info/paper/3caf773de7b1ad6c9236cbd03763058bc8846e9d', 'http://rexa.info/paper/5e9e56b4525a16e039d75d04d32477b118e36b0d', 'http://rexa.info/paper/39037b34a030869c4d11077a2cb171ac3ba3ff0d', 'http://rexa.info/paper/ccde1df96c7ca5add43e1578b912d95bb86da659', 'http://rexa.info/paper/6d06e4392537787017a43aa34b5412cfa28e31e8', 'http://rexa.info/paper/0cedee7ef9325127fb946dcdddf8795644e28335', 'http://rexa.info/paper/ae50055cb7507aa6cad70a2adf7d0f55a25268c7', 'http://rexa.info/paper/5d88347a087b01681bec3121a13b7b29465cdc71', 'http://rexa.info/paper/d688186b7174c0a53391d92f70d64a41209d3358', 'http://rexa.info/paper/e7628956b46a78e64774af25d99c0afd0cf90001', 'http://rexa.info/paper/48d6beec2a36a87d9d88b6de85dd85a75e5ed24d', 'http://rexa.info', 'http://cml.ics.uci.edu']\n"
     ]
    }
   ],
   "source": [
    "import requests\n",
    "import re\n",
    "import bs4\n",
    "from urllib.request import urlopen as uReq\n",
    "from bs4 import BeautifulSoup as soup\n",
    "\n",
    "    \n",
    "#now open request\n",
    "\n",
    "openRequest = urllib.request.urlopen('http://archive.ics.uci.edu/ml/datasets/auto+mpg')\n",
    "\n",
    "myPage = soup(openRequest)\n",
    "\n",
    "#create empty list\n",
    "\n",
    "listAll = []\n",
    "\n",
    "#for loop for itrate\n",
    "\n",
    "for line in myPage.findAll('a', attrs={'href': re.compile(\"^http://\")}):\n",
    "    listAll.append(line.get('href'))\n",
    "    \n",
    "print(\"List of all URl :\", listAll)\n",
    "    \n",
    "          \n",
    "                \n",
    "    \n",
    "\n"
   ]
  },
  {
   "cell_type": "code",
   "execution_count": null,
   "metadata": {},
   "outputs": [],
   "source": []
  },
  {
   "cell_type": "code",
   "execution_count": null,
   "metadata": {},
   "outputs": [],
   "source": []
  }
 ],
 "metadata": {
  "kernelspec": {
   "display_name": "Python 3",
   "language": "python",
   "name": "python3"
  },
  "language_info": {
   "codemirror_mode": {
    "name": "ipython",
    "version": 3
   },
   "file_extension": ".py",
   "mimetype": "text/x-python",
   "name": "python",
   "nbconvert_exporter": "python",
   "pygments_lexer": "ipython3",
   "version": "3.8.5"
  }
 },
 "nbformat": 4,
 "nbformat_minor": 4
}
